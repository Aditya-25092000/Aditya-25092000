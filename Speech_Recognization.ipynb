{
 "cells": [
  {
   "cell_type": "markdown",
   "id": "revolutionary-guyana",
   "metadata": {},
   "source": [
    "# Speech To text "
   ]
  },
  {
   "cell_type": "markdown",
   "id": "blocked-ferry",
   "metadata": {},
   "source": [
    "# Importing Libraries"
   ]
  },
  {
   "cell_type": "code",
   "execution_count": 1,
   "id": "moral-feelings",
   "metadata": {},
   "outputs": [],
   "source": [
    "import speech_recognition as sr\n",
    "from pydub import AudioSegment\n",
    "import os"
   ]
  },
  {
   "cell_type": "markdown",
   "id": "surface-airplane",
   "metadata": {},
   "source": [
    "# Language Code Function"
   ]
  },
  {
   "cell_type": "code",
   "execution_count": 2,
   "id": "organic-killer",
   "metadata": {},
   "outputs": [],
   "source": [
    "def language_code(language):\n",
    "    ##language Codes\n",
    "    language_dict={'English':'en','Chinese':'zh-TW','Hindi':'hi','Spanish':'es',\n",
    "                   'French':'fr','Bengali':'bn','Marathi':'mr','Tamil':'ta',\n",
    "                   'Gujrati':'gu'}\n",
    "    return language_dict.get(language)"
   ]
  },
  {
   "cell_type": "code",
   "execution_count": 13,
   "id": "international-magic",
   "metadata": {},
   "outputs": [],
   "source": [
    "def Speech_to_text(audio_file,choice):\n",
    "    recog=sr.Recognizer()\n",
    "    audio=''\n",
    "    if choice:\n",
    "        with sr.Microphone() as source:\n",
    "            print(\"Say Something....\")\n",
    "            recog.adjust_for_ambient_noise(source)\n",
    "            audio=recog.listen(source)\n",
    "    else:\n",
    "        with sr.AudioFile(audio_file) as source:\n",
    "            recog.adjust_for_ambient_noise(source)\n",
    "            audio=recog.record(source)\n",
    "    try:\n",
    "        text=recog.recognize_google(audio)\n",
    "        print('Text OUTPUT : ',text)\n",
    "        return text\n",
    "    except:\n",
    "        print('Sorry Could Not Recognize your Voice')"
   ]
  },
  {
   "cell_type": "code",
   "execution_count": 14,
   "id": "seven-merchant",
   "metadata": {},
   "outputs": [
    {
     "name": "stdout",
     "output_type": "stream",
     "text": [
      "Do you want to use Microphone?[y/n]\n",
      "y\n"
     ]
    }
   ],
   "source": [
    "print(\"Do you want to use Microphone?[y/n]\")\n",
    "choice=str(input())"
   ]
  },
  {
   "cell_type": "code",
   "execution_count": null,
   "id": "focal-cabinet",
   "metadata": {},
   "outputs": [],
   "source": []
  },
  {
   "cell_type": "code",
   "execution_count": 37,
   "id": "civil-yukon",
   "metadata": {},
   "outputs": [
    {
     "name": "stdout",
     "output_type": "stream",
     "text": [
      "Say Something....\n",
      "Converting Audio To Text.....\n",
      "Sorry Could Not Recognize your Voice\n"
     ]
    }
   ],
   "source": [
    "if choice==\"y\":\n",
    "    text=Speech_to_text(\"\",True)\n",
    "else:\n",
    "    print(\"ENTER THE PATH to Audio File\")\n",
    "    audio_file=str(input())\n",
    "    if(audio_file[-3:]==\"mp3\"):\n",
    "        # convert wav to mp3\n",
    "            dst=\"audio2.wav\"\n",
    "            sound = AudioSegment.from_mp3(audio_file)\n",
    "            sound.export(dst, format=\"wav\")\n",
    "            audio_file=dst\n",
    "    text=Speech_to_text(audio_file,False)\n",
    "    if(text==0):\n",
    "        exit(1)"
   ]
  },
  {
   "cell_type": "markdown",
   "id": "approved-spine",
   "metadata": {},
   "source": [
    "# Translator"
   ]
  },
  {
   "cell_type": "code",
   "execution_count": 31,
   "id": "powered-elizabeth",
   "metadata": {},
   "outputs": [
    {
     "name": "stdout",
     "output_type": "stream",
     "text": [
      "ENTER THE LANG TO Translate\n",
      "Hindi\n"
     ]
    }
   ],
   "source": [
    "print(\"ENTER THE LANG TO Translate\")\n",
    "lan=str(input())\n",
    "lan_code=language_code(lan)[:2]"
   ]
  },
  {
   "cell_type": "code",
   "execution_count": null,
   "id": "superior-annotation",
   "metadata": {},
   "outputs": [],
   "source": []
  },
  {
   "cell_type": "code",
   "execution_count": null,
   "id": "painful-durham",
   "metadata": {},
   "outputs": [],
   "source": []
  },
  {
   "cell_type": "code",
   "execution_count": 32,
   "id": "excited-article",
   "metadata": {},
   "outputs": [
    {
     "name": "stdout",
     "output_type": "stream",
     "text": [
      "मेरा नाम निशा हे\n"
     ]
    }
   ],
   "source": [
    "from  googletrans import Translator\n",
    "trans = Translator()\n",
    "translated = trans.translate(text,dest=\"hi\")\n",
    "\n",
    "print(translated.text)"
   ]
  },
  {
   "cell_type": "code",
   "execution_count": null,
   "id": "prepared-parish",
   "metadata": {},
   "outputs": [],
   "source": []
  },
  {
   "cell_type": "markdown",
   "id": "favorite-identifier",
   "metadata": {},
   "source": [
    "# Text to Speech"
   ]
  },
  {
   "cell_type": "code",
   "execution_count": 33,
   "id": "electrical-moderator",
   "metadata": {},
   "outputs": [],
   "source": [
    "from gtts import gTTS"
   ]
  },
  {
   "cell_type": "code",
   "execution_count": 34,
   "id": "foster-parade",
   "metadata": {},
   "outputs": [],
   "source": [
    "def text_to_speech(mytext):\n",
    "    tts = gTTS(text=t,slow=False)\n",
    "    tts.save(\"gen.mp3\")\n",
    "    os.system(\"start gen.mp3\")"
   ]
  },
  {
   "cell_type": "code",
   "execution_count": 36,
   "id": "double-receipt",
   "metadata": {},
   "outputs": [],
   "source": [
    "text_to_speech('')"
   ]
  },
  {
   "cell_type": "code",
   "execution_count": null,
   "id": "greater-advantage",
   "metadata": {},
   "outputs": [],
   "source": []
  }
 ],
 "metadata": {
  "kernelspec": {
   "display_name": "Python 3",
   "language": "python",
   "name": "python3"
  },
  "language_info": {
   "codemirror_mode": {
    "name": "ipython",
    "version": 3
   },
   "file_extension": ".py",
   "mimetype": "text/x-python",
   "name": "python",
   "nbconvert_exporter": "python",
   "pygments_lexer": "ipython3",
   "version": "3.8.3"
  }
 },
 "nbformat": 4,
 "nbformat_minor": 5
}
